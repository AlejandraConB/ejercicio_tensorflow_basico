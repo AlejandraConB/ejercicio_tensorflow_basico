{
  "nbformat": 4,
  "nbformat_minor": 0,
  "metadata": {
    "colab": {
      "provenance": [],
      "gpuType": "T4",
      "authorship_tag": "ABX9TyOFzK54RVujxYYGSUS+InTY",
      "include_colab_link": true
    },
    "kernelspec": {
      "name": "python3",
      "display_name": "Python 3"
    },
    "language_info": {
      "name": "python"
    },
    "accelerator": "GPU"
  },
  "cells": [
    {
      "cell_type": "markdown",
      "metadata": {
        "id": "view-in-github",
        "colab_type": "text"
      },
      "source": [
        "<a href=\"https://colab.research.google.com/github/AlejandraConB/ejercicio_tensorflow_basico/blob/main/ejercicio_tensorflow_basico.ipynb\" target=\"_parent\"><img src=\"https://colab.research.google.com/assets/colab-badge.svg\" alt=\"Open In Colab\"/></a>"
      ]
    },
    {
      "cell_type": "markdown",
      "source": [
        "#Guía detallada de uso de tensores en TensorFlow\n",
        "##Requisitos previos: Python 3.x, tensorflow>=2.0, numpy\n",
        "- Nota: En TensorFlow 2.x la ejecución es eager por defecto, lo que significa que las operaciones se evalúan inmediatamente."
      ],
      "metadata": {
        "id": "hgozypjAY5uL"
      }
    },
    {
      "cell_type": "markdown",
      "source": [],
      "metadata": {
        "id": "X62078hJZk8b"
      }
    },
    {
      "cell_type": "markdown",
      "source": [
        "###1) De listas / NumPy a tf.Tensor"
      ],
      "metadata": {
        "id": "dTIeNROAZI8Z"
      }
    },
    {
      "cell_type": "code",
      "source": [
        "!pip install --user tensorflow"
      ],
      "metadata": {
        "colab": {
          "base_uri": "https://localhost:8080/"
        },
        "collapsed": true,
        "id": "TIJooTsNfwAX",
        "outputId": "f8672f64-3ae2-424d-e162-fa9a6a00afbb"
      },
      "execution_count": 5,
      "outputs": [
        {
          "output_type": "stream",
          "name": "stdout",
          "text": [
            "Requirement already satisfied: tensorflow in /usr/local/lib/python3.12/dist-packages (2.19.0)\n",
            "Requirement already satisfied: absl-py>=1.0.0 in /usr/local/lib/python3.12/dist-packages (from tensorflow) (1.4.0)\n",
            "Requirement already satisfied: astunparse>=1.6.0 in /usr/local/lib/python3.12/dist-packages (from tensorflow) (1.6.3)\n",
            "Requirement already satisfied: flatbuffers>=24.3.25 in /usr/local/lib/python3.12/dist-packages (from tensorflow) (25.9.23)\n",
            "Requirement already satisfied: gast!=0.5.0,!=0.5.1,!=0.5.2,>=0.2.1 in /usr/local/lib/python3.12/dist-packages (from tensorflow) (0.6.0)\n",
            "Requirement already satisfied: google-pasta>=0.1.1 in /usr/local/lib/python3.12/dist-packages (from tensorflow) (0.2.0)\n",
            "Requirement already satisfied: libclang>=13.0.0 in /usr/local/lib/python3.12/dist-packages (from tensorflow) (18.1.1)\n",
            "Requirement already satisfied: opt-einsum>=2.3.2 in /usr/local/lib/python3.12/dist-packages (from tensorflow) (3.4.0)\n",
            "Requirement already satisfied: packaging in /usr/local/lib/python3.12/dist-packages (from tensorflow) (25.0)\n",
            "Requirement already satisfied: protobuf!=4.21.0,!=4.21.1,!=4.21.2,!=4.21.3,!=4.21.4,!=4.21.5,<6.0.0dev,>=3.20.3 in /usr/local/lib/python3.12/dist-packages (from tensorflow) (5.29.5)\n",
            "Requirement already satisfied: requests<3,>=2.21.0 in /usr/local/lib/python3.12/dist-packages (from tensorflow) (2.32.4)\n",
            "Requirement already satisfied: setuptools in /usr/local/lib/python3.12/dist-packages (from tensorflow) (75.2.0)\n",
            "Requirement already satisfied: six>=1.12.0 in /usr/local/lib/python3.12/dist-packages (from tensorflow) (1.17.0)\n",
            "Requirement already satisfied: termcolor>=1.1.0 in /usr/local/lib/python3.12/dist-packages (from tensorflow) (3.1.0)\n",
            "Requirement already satisfied: typing-extensions>=3.6.6 in /usr/local/lib/python3.12/dist-packages (from tensorflow) (4.15.0)\n",
            "Requirement already satisfied: wrapt>=1.11.0 in /usr/local/lib/python3.12/dist-packages (from tensorflow) (1.17.3)\n",
            "Requirement already satisfied: grpcio<2.0,>=1.24.3 in /usr/local/lib/python3.12/dist-packages (from tensorflow) (1.75.1)\n",
            "Requirement already satisfied: tensorboard~=2.19.0 in /usr/local/lib/python3.12/dist-packages (from tensorflow) (2.19.0)\n",
            "Requirement already satisfied: keras>=3.5.0 in /usr/local/lib/python3.12/dist-packages (from tensorflow) (3.10.0)\n",
            "Requirement already satisfied: numpy<2.2.0,>=1.26.0 in /usr/local/lib/python3.12/dist-packages (from tensorflow) (2.0.2)\n",
            "Requirement already satisfied: h5py>=3.11.0 in /usr/local/lib/python3.12/dist-packages (from tensorflow) (3.15.1)\n",
            "Requirement already satisfied: ml-dtypes<1.0.0,>=0.5.1 in /usr/local/lib/python3.12/dist-packages (from tensorflow) (0.5.3)\n",
            "Requirement already satisfied: wheel<1.0,>=0.23.0 in /usr/local/lib/python3.12/dist-packages (from astunparse>=1.6.0->tensorflow) (0.45.1)\n",
            "Requirement already satisfied: rich in /usr/local/lib/python3.12/dist-packages (from keras>=3.5.0->tensorflow) (13.9.4)\n",
            "Requirement already satisfied: namex in /usr/local/lib/python3.12/dist-packages (from keras>=3.5.0->tensorflow) (0.1.0)\n",
            "Requirement already satisfied: optree in /usr/local/lib/python3.12/dist-packages (from keras>=3.5.0->tensorflow) (0.17.0)\n",
            "Requirement already satisfied: charset_normalizer<4,>=2 in /usr/local/lib/python3.12/dist-packages (from requests<3,>=2.21.0->tensorflow) (3.4.4)\n",
            "Requirement already satisfied: idna<4,>=2.5 in /usr/local/lib/python3.12/dist-packages (from requests<3,>=2.21.0->tensorflow) (3.11)\n",
            "Requirement already satisfied: urllib3<3,>=1.21.1 in /usr/local/lib/python3.12/dist-packages (from requests<3,>=2.21.0->tensorflow) (2.5.0)\n",
            "Requirement already satisfied: certifi>=2017.4.17 in /usr/local/lib/python3.12/dist-packages (from requests<3,>=2.21.0->tensorflow) (2025.10.5)\n",
            "Requirement already satisfied: markdown>=2.6.8 in /usr/local/lib/python3.12/dist-packages (from tensorboard~=2.19.0->tensorflow) (3.9)\n",
            "Requirement already satisfied: tensorboard-data-server<0.8.0,>=0.7.0 in /usr/local/lib/python3.12/dist-packages (from tensorboard~=2.19.0->tensorflow) (0.7.2)\n",
            "Requirement already satisfied: werkzeug>=1.0.1 in /usr/local/lib/python3.12/dist-packages (from tensorboard~=2.19.0->tensorflow) (3.1.3)\n",
            "Requirement already satisfied: MarkupSafe>=2.1.1 in /usr/local/lib/python3.12/dist-packages (from werkzeug>=1.0.1->tensorboard~=2.19.0->tensorflow) (3.0.3)\n",
            "Requirement already satisfied: markdown-it-py>=2.2.0 in /usr/local/lib/python3.12/dist-packages (from rich->keras>=3.5.0->tensorflow) (4.0.0)\n",
            "Requirement already satisfied: pygments<3.0.0,>=2.13.0 in /usr/local/lib/python3.12/dist-packages (from rich->keras>=3.5.0->tensorflow) (2.19.2)\n",
            "Requirement already satisfied: mdurl~=0.1 in /usr/local/lib/python3.12/dist-packages (from markdown-it-py>=2.2.0->rich->keras>=3.5.0->tensorflow) (0.1.2)\n"
          ]
        }
      ]
    },
    {
      "cell_type": "code",
      "source": [
        "import tensorflow as tf\n",
        "print(tf.__version__)"
      ],
      "metadata": {
        "colab": {
          "base_uri": "https://localhost:8080/"
        },
        "id": "_l4sfs7KhqFh",
        "outputId": "2ceff820-f441-4786-bcd5-41fe735fe770"
      },
      "execution_count": 6,
      "outputs": [
        {
          "output_type": "stream",
          "name": "stdout",
          "text": [
            "2.19.0\n"
          ]
        }
      ]
    },
    {
      "cell_type": "code",
      "source": [
        "import tensorflow as tf\n",
        "import numpy as np\n"
      ],
      "metadata": {
        "id": "o5sz9bPsiycq"
      },
      "execution_count": 8,
      "outputs": []
    },
    {
      "cell_type": "code",
      "source": [
        "import numpy as np\n",
        "import tensorflow as tf\n",
        "\n",
        "# a) Desde un arreglo de NumPy (especificando dtype)\n",
        "a = np.array([1, 2, 3], dtype=np.int32)\n",
        "\n",
        "# b) Desde una lista de Python\n",
        "b = [4, 5, 6]\n",
        "\n",
        "# Convertimos a tensores\n",
        "t_a = tf.convert_to_tensor(a)\n",
        "t_b = tf.convert_to_tensor(b)  # Inferirá dtype=int32\n",
        "\n",
        "print(t_a)\n",
        "print(t_b)"
      ],
      "metadata": {
        "colab": {
          "base_uri": "https://localhost:8080/"
        },
        "id": "xhbdQcAtjB_x",
        "outputId": "94b6d854-6c45-4921-9adc-6ec3a1879846"
      },
      "execution_count": 9,
      "outputs": [
        {
          "output_type": "stream",
          "name": "stdout",
          "text": [
            "tf.Tensor([1 2 3], shape=(3,), dtype=int32)\n",
            "tf.Tensor([4 5 6], shape=(3,), dtype=int32)\n"
          ]
        }
      ]
    },
    {
      "cell_type": "markdown",
      "source": [
        "###Explicación\n",
        "\n",
        "- tf.convert_to_tensor convierte listas, arrays de NumPy u otros tensores a un tf.Tensor.\n",
        "- El parámetro dtype controla el tipo de dato, por ejemplo tf.float32, tf.int32, etc."
      ],
      "metadata": {
        "id": "-Lwvi1_VZk-u"
      }
    },
    {
      "cell_type": "code",
      "metadata": {
        "colab": {
          "base_uri": "https://localhost:8080/"
        },
        "id": "b2c99128",
        "outputId": "a123fd15-57c4-43cd-cdc7-adef3d650ee2"
      },
      "source": [
        "import numpy as np\n",
        "\n",
        "# Crear dos arreglos con los mismos valores pero diferente dtype\n",
        "arr_int32 = np.array([1, 2, 3], dtype=np.int32)\n",
        "arr_float64 = np.array([1.0, 2.0, 3.0], dtype=np.float64)\n",
        "arr_int8 = np.array([1, 2, 3], dtype=np.int8)\n",
        "\n",
        "\n",
        "# Imprimir los arreglos y sus dtypes\n",
        "print(\"Arreglo con dtype int32:\")\n",
        "print(arr_int32)\n",
        "print(\"dtype:\", arr_int32.dtype)\n",
        "print(\"-\" * 20)\n",
        "\n",
        "print(\"Arreglo con dtype float64:\")\n",
        "print(arr_float64)\n",
        "print(\"dtype:\", arr_float64.dtype)\n",
        "print(\"-\" * 20)\n",
        "\n",
        "print(\"Arreglo con dtype int8:\")\n",
        "print(arr_int8)\n",
        "print(\"dtype:\", arr_int8.dtype)\n",
        "print(\"-\" * 20)\n",
        "\n",
        "# Mostrar el tamaño en bytes de cada elemento (esto puede variar ligeramente)\n",
        "print(f\"Tamaño de un elemento en arr_int32: {arr_int32.itemsize} bytes\")\n",
        "print(f\"Tamaño de un elemento en arr_float64: {arr_float64.itemsize} bytes\")\n",
        "print(f\"Tamaño de un elemento en arr_int8: {arr_int8.itemsize} bytes\")"
      ],
      "execution_count": 1,
      "outputs": [
        {
          "output_type": "stream",
          "name": "stdout",
          "text": [
            "Arreglo con dtype int32:\n",
            "[1 2 3]\n",
            "dtype: int32\n",
            "--------------------\n",
            "Arreglo con dtype float64:\n",
            "[1. 2. 3.]\n",
            "dtype: float64\n",
            "--------------------\n",
            "Arreglo con dtype int8:\n",
            "[1 2 3]\n",
            "dtype: int8\n",
            "--------------------\n",
            "Tamaño de un elemento en arr_int32: 4 bytes\n",
            "Tamaño de un elemento en arr_float64: 8 bytes\n",
            "Tamaño de un elemento en arr_int8: 1 bytes\n"
          ]
        }
      ]
    },
    {
      "cell_type": "markdown",
      "source": [
        "###Explicación\n",
        "\n",
        "- Python es dinámicamente tipado y tiene gestión automática de memoria, y para las listas estándar de Python, no necesitas preocuparte por el tipo de datos de cada elemento de la misma manera.\n",
        "\n",
        "- Sin embargo, bibliotecas como NumPy y TensorFlow operan a un nivel diferente al de las listas básicas de Python. Están diseñadas para manejar grandes cantidades de datos numéricos de manera muy eficiente, especialmente para cálculos científicos y de aprendizaje automático. Para lograr esta eficiencia, estas bibliotecas a menudo trabajan con bloques de memoria contiguos y optimizan las operaciones basándose en el tipo de datos de los elementos."
      ],
      "metadata": {
        "id": "_MKD7m6caU7n"
      }
    }
  ]
}